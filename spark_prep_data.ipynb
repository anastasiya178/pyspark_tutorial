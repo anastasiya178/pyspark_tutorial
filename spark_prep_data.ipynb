{
  "nbformat": 4,
  "nbformat_minor": 0,
  "metadata": {
    "colab": {
      "provenance": [],
      "authorship_tag": "ABX9TyPfuAdicF3RJoEt7o2ctd0s",
      "include_colab_link": true
    },
    "kernelspec": {
      "name": "python3",
      "display_name": "Python 3"
    },
    "language_info": {
      "name": "python"
    }
  },
  "cells": [
    {
      "cell_type": "markdown",
      "metadata": {
        "id": "view-in-github",
        "colab_type": "text"
      },
      "source": [
        "<a href=\"https://colab.research.google.com/github/anastasiya178/pyspark_tutorial/blob/main/spark_prep_data.ipynb\" target=\"_parent\"><img src=\"https://colab.research.google.com/assets/colab-badge.svg\" alt=\"Open In Colab\"/></a>"
      ]
    },
    {
      "cell_type": "markdown",
      "source": [
        "# Preparing Data Using Spark SQL"
      ],
      "metadata": {
        "id": "UnElUKaL-jcJ"
      }
    },
    {
      "cell_type": "markdown",
      "source": [
        "Guide:\n",
        "\n",
        "Mastering Big Data Analytics with PySpark\n",
        "https://learning-oreilly-com.hcpl.idm.oclc.org/videos/mastering-big-data/9781838640583/9781838640583-video3_1/\n",
        "\n",
        "\n",
        "Spark SQL - Spark module that allows querying structured data inside Spark programms."
      ],
      "metadata": {
        "id": "-jRHolX4-sBF"
      }
    },
    {
      "cell_type": "markdown",
      "source": [
        "#### Loading and exploring data"
      ],
      "metadata": {
        "id": "kfZcOtP6-_3D"
      }
    },
    {
      "cell_type": "code",
      "source": [
        "from pyspark.sql import SparkSession"
      ],
      "metadata": {
        "id": "iBGvn0Yo9BkL"
      },
      "execution_count": 1,
      "outputs": []
    },
    {
      "cell_type": "code",
      "source": [
        "spark = SparkSession.builder.appName(\"MyFirstCSVLoad1.csv\").getOrCreate()"
      ],
      "metadata": {
        "id": "H19035Wi9Bby"
      },
      "execution_count": 2,
      "outputs": []
    },
    {
      "cell_type": "code",
      "source": [
        "df = spark.read.csv(\n",
        "    path=\"ratings.csv\",\n",
        "    sep=\",\",\n",
        "    header=True,\n",
        "    quote=\"\",\n",
        "    schema =\"userId INT, movieId INT, rating DOUBLE, timestamp INT\"\n",
        "    )"
      ],
      "metadata": {
        "id": "2ehajgyx9BMR"
      },
      "execution_count": null,
      "outputs": []
    },
    {
      "cell_type": "markdown",
      "source": [
        "As an alternative to strict schema typing, you can use another setting: inferSchema=True\n",
        "While it's perfectly fine to use it for exploratory purposes, it is not recommended for production usage."
      ],
      "metadata": {
        "id": "AiqazzGb9HtP"
      }
    },
    {
      "cell_type": "code",
      "source": [
        "df.show(5)"
      ],
      "metadata": {
        "id": "c4vvY-Go9LhU"
      },
      "execution_count": null,
      "outputs": []
    },
    {
      "cell_type": "code",
      "source": [
        "df.printSchema()"
      ],
      "metadata": {
        "id": "Co7aN3To9MpT"
      },
      "execution_count": null,
      "outputs": []
    },
    {
      "cell_type": "markdown",
      "source": [
        "#### Wrangling data"
      ],
      "metadata": {
        "id": "gtcXBvNa_EdZ"
      }
    },
    {
      "cell_type": "markdown",
      "source": [],
      "metadata": {
        "id": "OWMS0jQP_H6l"
      }
    },
    {
      "cell_type": "code",
      "source": [
        "from pyspark.sql import functions as f"
      ],
      "metadata": {
        "id": "l63xeFTN_EO_"
      },
      "execution_count": 7,
      "outputs": []
    },
    {
      "cell_type": "code",
      "source": [
        "# one operation example\n",
        "# df = df.withColumnRenamed(\"timestamp\", \"timestamp_unix\")\n",
        "# df = df.withColumn(\"timestamp\", f.from_unixtime(\"timestamp_unix\"))\n",
        "\n",
        "# df = df.withColumn(\"timestamp\", f.to_timestamp(\"timestamp\"))\n",
        "\n",
        "# multiple operation example\n",
        "\n",
        "# df = (\n",
        "#     df\n",
        "#     .withColumnRenamed(\"timestamp\", \"timestamp_unix\")\n",
        "#     .withColumn(\"timestamp\", f.to_timestamp(f.from_unixtime(\"timestamp_unix\")))\n",
        "# )\n",
        "\n",
        "\n",
        "df.show(5)\n",
        "df.printSchema()\n",
        "\n",
        "#f.from_unixtime\n",
        "#f.to_timestamp"
      ],
      "metadata": {
        "id": "Kgq1BoLoQz3T",
        "colab": {
          "base_uri": "https://localhost:8080/"
        },
        "outputId": "7a873895-f609-4813-9847-95dfffcada67"
      },
      "execution_count": null,
      "outputs": [
        {
          "output_type": "stream",
          "name": "stdout",
          "text": [
            "+------+-------+------+---------+\n",
            "|userId|movieId|rating|timestamp|\n",
            "+------+-------+------+---------+\n",
            "|     1|      1|   4.0|964982703|\n",
            "|     1|      3|   4.0|964981247|\n",
            "|     1|      6|   4.0|964982224|\n",
            "|     1|     47|   5.0|964983815|\n",
            "|     1|     50|   5.0|964982931|\n",
            "+------+-------+------+---------+\n",
            "only showing top 5 rows\n",
            "\n",
            "root\n",
            " |-- userId: integer (nullable = true)\n",
            " |-- movieId: integer (nullable = true)\n",
            " |-- rating: double (nullable = true)\n",
            " |-- timestamp: integer (nullable = true)\n",
            "\n"
          ]
        }
      ]
    },
    {
      "cell_type": "code",
      "source": [
        "df = (\n",
        "    spark.read.csv(\n",
        "    path=\"ratings.csv\",\n",
        "    sep=\",\",\n",
        "    header=True,\n",
        "    quote=\"\",\n",
        "    schema =\"userId INT, movieId INT, rating DOUBLE, timestamp INT\"\n",
        "    )\n",
        "    .withColumnRenamed(\"timestamp\", \"timestamp_unix\")\n",
        "    .withColumn(\"timestamp\", f.to_timestamp(f.from_unixtime(\"timestamp_unix\")))\n",
        ")\n",
        "\n",
        "df.show(5)\n",
        "df.printSchema()"
      ],
      "metadata": {
        "colab": {
          "base_uri": "https://localhost:8080/"
        },
        "id": "npkSU8txdfVL",
        "outputId": "a535fc59-eac3-4141-d13d-64c1f732003b"
      },
      "execution_count": null,
      "outputs": [
        {
          "output_type": "stream",
          "name": "stdout",
          "text": [
            "+------+-------+------+--------------+-------------------+\n",
            "|userId|movieId|rating|timestamp_unix|          timestamp|\n",
            "+------+-------+------+--------------+-------------------+\n",
            "|     1|      1|   4.0|     964982703|2000-07-30 18:45:03|\n",
            "|     1|      3|   4.0|     964981247|2000-07-30 18:20:47|\n",
            "|     1|      6|   4.0|     964982224|2000-07-30 18:37:04|\n",
            "|     1|     47|   5.0|     964983815|2000-07-30 19:03:35|\n",
            "|     1|     50|   5.0|     964982931|2000-07-30 18:48:51|\n",
            "+------+-------+------+--------------+-------------------+\n",
            "only showing top 5 rows\n",
            "\n",
            "root\n",
            " |-- userId: integer (nullable = true)\n",
            " |-- movieId: integer (nullable = true)\n",
            " |-- rating: double (nullable = true)\n",
            " |-- timestamp_unix: integer (nullable = true)\n",
            " |-- timestamp: timestamp (nullable = true)\n",
            "\n"
          ]
        }
      ]
    },
    {
      "cell_type": "code",
      "source": [
        "df.drop(\"timestamp_unix\").show(5)"
      ],
      "metadata": {
        "colab": {
          "base_uri": "https://localhost:8080/"
        },
        "id": "r1GVgP-weHBF",
        "outputId": "5ec93a80-88c3-41dc-8ee6-b078c16f4b0c"
      },
      "execution_count": null,
      "outputs": [
        {
          "output_type": "stream",
          "name": "stdout",
          "text": [
            "+------+-------+------+-------------------+\n",
            "|userId|movieId|rating|          timestamp|\n",
            "+------+-------+------+-------------------+\n",
            "|     1|      1|   4.0|2000-07-30 18:45:03|\n",
            "|     1|      3|   4.0|2000-07-30 18:20:47|\n",
            "|     1|      6|   4.0|2000-07-30 18:37:04|\n",
            "|     1|     47|   5.0|2000-07-30 19:03:35|\n",
            "|     1|     50|   5.0|2000-07-30 18:48:51|\n",
            "+------+-------+------+-------------------+\n",
            "only showing top 5 rows\n",
            "\n"
          ]
        }
      ]
    },
    {
      "cell_type": "markdown",
      "source": [
        "*italicised text*### PART 2\n",
        "\n",
        "Working with movies"
      ],
      "metadata": {
        "id": "WPPssoo6e6bJ"
      }
    },
    {
      "cell_type": "code",
      "source": [
        "ratings = (\n",
        "    spark.read.csv(\n",
        "    path=\"ratings.csv\",\n",
        "    sep=\",\",\n",
        "    header=True,\n",
        "    quote=\"\",\n",
        "    schema =\"userId INT, movieId INT, rating DOUBLE, timestamp INT\"\n",
        "    )\n",
        "    .withColumn(\"timestamp\", f.to_timestamp(f.from_unixtime(\"timestamp\")))\n",
        ")"
      ],
      "metadata": {
        "id": "xsNNWxi7eRcW"
      },
      "execution_count": 18,
      "outputs": []
    },
    {
      "cell_type": "code",
      "source": [
        "ratings.show(5)\n",
        "ratings.printSchema()"
      ],
      "metadata": {
        "id": "DhQ7wiHZfLaW"
      },
      "execution_count": null,
      "outputs": []
    },
    {
      "cell_type": "code",
      "source": [
        "movies = spark.read.csv(\n",
        "    path=\"movies.csv\",\n",
        "    sep=\",\",\n",
        "    header=True,\n",
        "    quote='\"',\n",
        "    schema = \"movieID INT, title STRING, genres STRING\"\n",
        ")\n",
        "\n",
        "\n",
        "movies.show(5, truncate=False)\n",
        "movies.printSchema()"
      ],
      "metadata": {
        "colab": {
          "base_uri": "https://localhost:8080/"
        },
        "id": "Vh4zfQ_MfR7F",
        "outputId": "9de0bb4f-086d-4a5a-a41a-55645afc0488"
      },
      "execution_count": 5,
      "outputs": [
        {
          "output_type": "stream",
          "name": "stdout",
          "text": [
            "+-------+----------------------------------+-------------------------------------------+\n",
            "|movieID|title                             |genres                                     |\n",
            "+-------+----------------------------------+-------------------------------------------+\n",
            "|1      |Toy Story (1995)                  |Adventure|Animation|Children|Comedy|Fantasy|\n",
            "|2      |Jumanji (1995)                    |Adventure|Children|Fantasy                 |\n",
            "|3      |Grumpier Old Men (1995)           |Comedy|Romance                             |\n",
            "|4      |Waiting to Exhale (1995)          |Comedy|Drama|Romance                       |\n",
            "|5      |Father of the Bride Part II (1995)|Comedy                                     |\n",
            "+-------+----------------------------------+-------------------------------------------+\n",
            "only showing top 5 rows\n",
            "\n",
            "root\n",
            " |-- movieID: integer (nullable = true)\n",
            " |-- title: string (nullable = true)\n",
            " |-- genres: string (nullable = true)\n",
            "\n"
          ]
        }
      ]
    },
    {
      "cell_type": "markdown",
      "source": [
        "Filtering"
      ],
      "metadata": {
        "id": "ZBBd86cng1-d"
      }
    },
    {
      "cell_type": "code",
      "source": [
        "# Option 1\n",
        "# Where statement takes SQL operation\n",
        "# movies.where(\"genres = 'Action'\").show()\n",
        "\n",
        "# Option 2\n",
        "movies.where(f.col(\"genres\") == \"Action\").show(5, False)"
      ],
      "metadata": {
        "id": "miIfEiGkgQbw"
      },
      "execution_count": null,
      "outputs": []
    },
    {
      "cell_type": "code",
      "source": [
        "movie_genre = (\n",
        "    movies\n",
        "    .withColumn(\"genres_array\", f.split(\"genres\", \"\\|\")) # regex, so you need to escape \"|\"\"\n",
        "    .withColumn(\"genre\", f.explode(\"genres_array\"))\n",
        "    .select(\"movieID\", \"title\", \"genre\")\n",
        ")"
      ],
      "metadata": {
        "id": "JJLQQOj3hnyZ"
      },
      "execution_count": 8,
      "outputs": []
    },
    {
      "cell_type": "code",
      "source": [
        "movie_genre.show()\n",
        "# movie_genre.printSchema()"
      ],
      "metadata": {
        "colab": {
          "base_uri": "https://localhost:8080/"
        },
        "id": "Ly17SC7Wj3Gs",
        "outputId": "d300f4a2-8a62-4992-c5bc-266dabf040b9"
      },
      "execution_count": null,
      "outputs": [
        {
          "output_type": "stream",
          "name": "stdout",
          "text": [
            "+-------+--------------------+---------+\n",
            "|movieID|               title|    genre|\n",
            "+-------+--------------------+---------+\n",
            "|      1|    Toy Story (1995)|Adventure|\n",
            "|      1|    Toy Story (1995)|Animation|\n",
            "|      1|    Toy Story (1995)| Children|\n",
            "|      1|    Toy Story (1995)|   Comedy|\n",
            "|      1|    Toy Story (1995)|  Fantasy|\n",
            "|      2|      Jumanji (1995)|Adventure|\n",
            "|      2|      Jumanji (1995)| Children|\n",
            "|      2|      Jumanji (1995)|  Fantasy|\n",
            "|      3|Grumpier Old Men ...|   Comedy|\n",
            "|      3|Grumpier Old Men ...|  Romance|\n",
            "|      4|Waiting to Exhale...|   Comedy|\n",
            "|      4|Waiting to Exhale...|    Drama|\n",
            "|      4|Waiting to Exhale...|  Romance|\n",
            "|      5|Father of the Bri...|   Comedy|\n",
            "|      6|         Heat (1995)|   Action|\n",
            "|      6|         Heat (1995)|    Crime|\n",
            "|      6|         Heat (1995)| Thriller|\n",
            "|      7|      Sabrina (1995)|   Comedy|\n",
            "|      7|      Sabrina (1995)|  Romance|\n",
            "|      8| Tom and Huck (1995)|Adventure|\n",
            "+-------+--------------------+---------+\n",
            "only showing top 20 rows\n",
            "\n"
          ]
        }
      ]
    },
    {
      "cell_type": "code",
      "source": [
        "available_genres = movie_genre.select(\"genre\").distinct()"
      ],
      "metadata": {
        "id": "VMGH8NSrpKlZ"
      },
      "execution_count": null,
      "outputs": []
    },
    {
      "cell_type": "code",
      "source": [
        "titles_distinct = movie_genre.select(\"title\").distinct()"
      ],
      "metadata": {
        "id": "Hrd9pXzaYH1A"
      },
      "execution_count": null,
      "outputs": []
    },
    {
      "cell_type": "code",
      "source": [
        "titles_distinct.show(50)"
      ],
      "metadata": {
        "colab": {
          "base_uri": "https://localhost:8080/"
        },
        "id": "VaQrfZajYPnv",
        "outputId": "87ea42da-30ea-4768-e13a-cde14aae8ef8"
      },
      "execution_count": null,
      "outputs": [
        {
          "output_type": "stream",
          "name": "stdout",
          "text": [
            "+--------------------+\n",
            "|               title|\n",
            "+--------------------+\n",
            "|    Fair Game (1995)|\n",
            "| If Lucy Fell (1996)|\n",
            "|           \"Birdcage|\n",
            "| Three Wishes (1995)|\n",
            "|Heavenly Creature...|\n",
            "|Snow White and th...|\n",
            "|Night of the Livi...|\n",
            "|\"Streetcar Named ...|\n",
            "|When We Were King...|\n",
            "|       Psycho (1960)|\n",
            "|   Annie Hall (1977)|\n",
            "|Men in Black (a.k...|\n",
            "| \"Life Less Ordinary|\n",
            "|In the Heat of th...|\n",
            "|    Elizabeth (1998)|\n",
            "|First Blood (Ramb...|\n",
            "|Problem Child (1990)|\n",
            "|Gulliver's Travel...|\n",
            "|Man Bites Dog (C'...|\n",
            "|One False Move (1...|\n",
            "|       Quills (2000)|\n",
            "|Before Night Fall...|\n",
            "|Don't Tell Mom th...|\n",
            "|\"Abominable Dr. P...|\n",
            "|   Love Story (1970)|\n",
            "|Captain Corelli's...|\n",
            "|     Fat City (1972)|\n",
            "|              \"Jetée|\n",
            "|        Birth (2004)|\n",
            "|Damn Yankees! (1958)|\n",
            "|Smiley's People (...|\n",
            "|Boy Meets Girl (1...|\n",
            "|My Father the Her...|\n",
            "|Starship Troopers...|\n",
            "|Germany Year Zero...|\n",
            "|  Thumbsucker (2005)|\n",
            "|Survive Style 5+ ...|\n",
            "| Just Friends (2005)|\n",
            "|Mozart and the Wh...|\n",
            "|    Dead Meat (2004)|\n",
            "|      \"Nanny Diaries|\n",
            "|          \"Orphanage|\n",
            "|      \"International|\n",
            "|Futurama: Into th...|\n",
            "|I Love You Philli...|\n",
            "|Voices from the L...|\n",
            "|22 Jump Street (2...|\n",
            "|National Lampoon'...|\n",
            "| Wicked Blood (2014)|\n",
            "|Just Before I Go ...|\n",
            "+--------------------+\n",
            "only showing top 50 rows\n",
            "\n"
          ]
        }
      ]
    },
    {
      "cell_type": "code",
      "source": [
        "movie_genre.count()"
      ],
      "metadata": {
        "colab": {
          "base_uri": "https://localhost:8080/"
        },
        "id": "f38wI3-5s8hz",
        "outputId": "9b04ee3e-3039-4a35-db36-46d0d338aa22"
      },
      "execution_count": 9,
      "outputs": [
        {
          "output_type": "execute_result",
          "data": {
            "text/plain": [
              "22084"
            ]
          },
          "metadata": {},
          "execution_count": 9
        }
      ]
    },
    {
      "cell_type": "code",
      "source": [
        "available_genres.count()"
      ],
      "metadata": {
        "colab": {
          "base_uri": "https://localhost:8080/"
        },
        "id": "STrmXQ8BpUJW",
        "outputId": "625a469a-74a4-4d7e-eede-2711dc7ee966"
      },
      "execution_count": null,
      "outputs": [
        {
          "output_type": "execute_result",
          "data": {
            "text/plain": [
              "20"
            ]
          },
          "metadata": {},
          "execution_count": 34
        }
      ]
    },
    {
      "cell_type": "code",
      "source": [
        "available_genres.show(200)"
      ],
      "metadata": {
        "colab": {
          "base_uri": "https://localhost:8080/"
        },
        "id": "betbFXWstsmH",
        "outputId": "4d3e6523-a7ec-4185-b45f-c548dd53be03"
      },
      "execution_count": null,
      "outputs": [
        {
          "output_type": "stream",
          "name": "stdout",
          "text": [
            "+------------------+\n",
            "|             genre|\n",
            "+------------------+\n",
            "|             Crime|\n",
            "|           Romance|\n",
            "|          Thriller|\n",
            "|         Adventure|\n",
            "|             Drama|\n",
            "|               War|\n",
            "|       Documentary|\n",
            "|           Fantasy|\n",
            "|           Mystery|\n",
            "|           Musical|\n",
            "|         Animation|\n",
            "|         Film-Noir|\n",
            "|(no genres listed)|\n",
            "|              IMAX|\n",
            "|            Horror|\n",
            "|           Western|\n",
            "|            Comedy|\n",
            "|          Children|\n",
            "|            Action|\n",
            "|            Sci-Fi|\n",
            "+------------------+\n",
            "\n"
          ]
        }
      ]
    },
    {
      "cell_type": "markdown",
      "source": [
        "As we can see in the output above, there is a value (no genres listed). Let's find out how many movies has no genre specified."
      ],
      "metadata": {
        "id": "7LNQS6Lwi2TG"
      }
    },
    {
      "cell_type": "code",
      "source": [
        "movies_without_genre = movies.where(f.col(\"genres\") == \"(no genres listed)\")"
      ],
      "metadata": {
        "id": "KPt0ur6fcNvi"
      },
      "execution_count": null,
      "outputs": []
    },
    {
      "cell_type": "code",
      "source": [
        "print(movies_without_genre.count())"
      ],
      "metadata": {
        "colab": {
          "base_uri": "https://localhost:8080/"
        },
        "id": "CvBfyYPliM6F",
        "outputId": "3d00331d-98c2-4ed6-c7ae-f38ae38f1c03"
      },
      "execution_count": null,
      "outputs": [
        {
          "output_type": "stream",
          "name": "stdout",
          "text": [
            "34\n"
          ]
        }
      ]
    },
    {
      "cell_type": "code",
      "source": [
        "movies_without_genre.show(20)"
      ],
      "metadata": {
        "id": "QMf_XJ2giUSS"
      },
      "execution_count": null,
      "outputs": []
    },
    {
      "cell_type": "code",
      "source": [],
      "metadata": {
        "id": "YTmOP4H9ilZA"
      },
      "execution_count": null,
      "outputs": []
    },
    {
      "cell_type": "markdown",
      "source": [
        "# Grouping, Joining, Aggregating"
      ],
      "metadata": {
        "id": "ISaCm2jz0Ghg"
      }
    },
    {
      "cell_type": "code",
      "source": [
        "links = spark.read.csv(\n",
        "  path = \"links.csv\",\n",
        "  sep = \",\",\n",
        "  header = True,\n",
        "  quote = '\"',\n",
        "  schema = \"movieId INT, imbdId INT, tmbdId INT\"\n",
        ")\n"
      ],
      "metadata": {
        "id": "MuOgmSIf0J_8"
      },
      "execution_count": null,
      "outputs": []
    },
    {
      "cell_type": "code",
      "source": [
        "tags = spark.read.csv(\n",
        "    path = \"tags.csv\",\n",
        "    sep = \",\",\n",
        "    header = True,\n",
        "    quote = '\"',\n",
        "    schema = \"userId INT, movieId INT, tag STRING, timestamp INT\"\n",
        ").withColumn(\"timestamp\", f.to_timestamp(f.from_unixtime(\"timestamp\",)))"
      ],
      "metadata": {
        "id": "zC916xeP429X"
      },
      "execution_count": 10,
      "outputs": []
    },
    {
      "cell_type": "code",
      "source": [
        "links.show(15, truncate=False)\n",
        "links.printSchema()"
      ],
      "metadata": {
        "id": "Tla1JCDS45UA"
      },
      "execution_count": null,
      "outputs": []
    },
    {
      "cell_type": "code",
      "source": [
        "tags.show(15)\n",
        "tags.printSchema()"
      ],
      "metadata": {
        "id": "tn4x9EN-5DI2"
      },
      "execution_count": null,
      "outputs": []
    },
    {
      "cell_type": "markdown",
      "source": [
        "#### Group by genre"
      ],
      "metadata": {
        "id": "vys_Vqz656h_"
      }
    },
    {
      "cell_type": "markdown",
      "source": [
        "Count how many movies are associated with every genre"
      ],
      "metadata": {
        "id": "337q1urs8YSm"
      }
    },
    {
      "cell_type": "code",
      "source": [
        "movies_per_genre = movie_genre.groupBy(\"genre\").count()"
      ],
      "metadata": {
        "id": "qNpCp0Xd5SDs"
      },
      "execution_count": null,
      "outputs": []
    },
    {
      "cell_type": "code",
      "source": [
        "movies_per_genre.show()"
      ],
      "metadata": {
        "id": "Gr-baTOU6HXL"
      },
      "execution_count": null,
      "outputs": []
    },
    {
      "cell_type": "markdown",
      "source": [
        "Count how many genres are associated with every movieId"
      ],
      "metadata": {
        "id": "dyOTNtBb8dQ7"
      }
    },
    {
      "cell_type": "code",
      "source": [
        "movies_per_genre = movie_genre.groupBy(\"movieId\").count()"
      ],
      "metadata": {
        "id": "l9deS7dg8WIN"
      },
      "execution_count": null,
      "outputs": []
    },
    {
      "cell_type": "code",
      "source": [
        "movies_per_genre.show()"
      ],
      "metadata": {
        "id": "TguYCdWX8n-R"
      },
      "execution_count": null,
      "outputs": []
    },
    {
      "cell_type": "markdown",
      "source": [
        "#### Join dataframes\n",
        "\n",
        "Let's look at tags data"
      ],
      "metadata": {
        "id": "4wacVihkAasC"
      }
    },
    {
      "cell_type": "code",
      "source": [
        "tags.show(15)"
      ],
      "metadata": {
        "colab": {
          "base_uri": "https://localhost:8080/"
        },
        "id": "zAo8RNyHAfuN",
        "outputId": "7cd83613-1f60-4c52-d39c-21b23ae3b78b"
      },
      "execution_count": 11,
      "outputs": [
        {
          "output_type": "stream",
          "name": "stdout",
          "text": [
            "+------+-------+-----------------+-------------------+\n",
            "|userId|movieId|              tag|          timestamp|\n",
            "+------+-------+-----------------+-------------------+\n",
            "|     2|  60756|            funny|2015-10-24 19:29:54|\n",
            "|     2|  60756|  Highly quotable|2015-10-24 19:29:56|\n",
            "|     2|  60756|     will ferrell|2015-10-24 19:29:52|\n",
            "|     2|  89774|     Boxing story|2015-10-24 19:33:27|\n",
            "|     2|  89774|              MMA|2015-10-24 19:33:20|\n",
            "|     2|  89774|        Tom Hardy|2015-10-24 19:33:25|\n",
            "|     2| 106782|            drugs|2015-10-24 19:30:54|\n",
            "|     2| 106782|Leonardo DiCaprio|2015-10-24 19:30:51|\n",
            "|     2| 106782|  Martin Scorsese|2015-10-24 19:30:56|\n",
            "|     7|  48516|     way too long|2007-01-25 01:08:45|\n",
            "|    18|    431|        Al Pacino|2016-05-01 21:39:25|\n",
            "|    18|    431|         gangster|2016-05-01 21:39:09|\n",
            "|    18|    431|            mafia|2016-05-01 21:39:15|\n",
            "|    18|   1221|        Al Pacino|2016-04-26 19:35:06|\n",
            "|    18|   1221|            Mafia|2016-04-26 19:35:03|\n",
            "+------+-------+-----------------+-------------------+\n",
            "only showing top 15 rows\n",
            "\n"
          ]
        }
      ]
    },
    {
      "cell_type": "markdown",
      "source": [
        "We want to see a movie title instead of tag.\n",
        "In order to do that, we can use Join"
      ],
      "metadata": {
        "id": "FzczStUnATnb"
      }
    },
    {
      "cell_type": "code",
      "source": [
        "opinions = movie_genre.join(tags, movies[\"movieID\"] == tags[\"movieID\"])"
      ],
      "metadata": {
        "id": "c3QOOttyAOZU"
      },
      "execution_count": null,
      "outputs": []
    },
    {
      "cell_type": "code",
      "source": [
        "opinions.show(3)"
      ],
      "metadata": {
        "colab": {
          "base_uri": "https://localhost:8080/"
        },
        "id": "KRCyV698C19p",
        "outputId": "1182fe7e-f3ec-4333-f039-9d9b692a5656"
      },
      "execution_count": null,
      "outputs": [
        {
          "output_type": "stream",
          "name": "stdout",
          "text": [
            "+-------+----------------+---------+------+-------+-----+-------------------+\n",
            "|movieID|           title|    genre|userId|movieId|  tag|          timestamp|\n",
            "+-------+----------------+---------+------+-------+-----+-------------------+\n",
            "|      1|Toy Story (1995)|Adventure|   567|      1|  fun|2018-05-02 18:33:33|\n",
            "|      1|Toy Story (1995)|Adventure|   474|      1|pixar|2006-01-14 02:47:05|\n",
            "|      1|Toy Story (1995)|Adventure|   336|      1|pixar|2006-02-04 09:36:04|\n",
            "|      1|Toy Story (1995)|Animation|   567|      1|  fun|2018-05-02 18:33:33|\n",
            "|      1|Toy Story (1995)|Animation|   474|      1|pixar|2006-01-14 02:47:05|\n",
            "+-------+----------------+---------+------+-------+-----+-------------------+\n",
            "only showing top 5 rows\n",
            "\n"
          ]
        }
      ]
    },
    {
      "cell_type": "markdown",
      "source": [
        "If the column name that we join on is the same for both dataframes, to avoid column duplication we could just specify the command the following way:"
      ],
      "metadata": {
        "id": "VBnPFOU4Cfkn"
      }
    },
    {
      "cell_type": "code",
      "source": [
        "opinions = (\n",
        "    movie_genre\n",
        "    .join(tags, [\"movieID\"], \"inner\")\n",
        "    .select(\"userID\", \"movieID\", \"title\", \"tag\", \"timestamp\")\n",
        ")"
      ],
      "metadata": {
        "id": "CW1LoZz8CsAQ"
      },
      "execution_count": 14,
      "outputs": []
    },
    {
      "cell_type": "code",
      "source": [
        "opinions.show(3)"
      ],
      "metadata": {
        "colab": {
          "base_uri": "https://localhost:8080/"
        },
        "id": "MAaOnjewBDcS",
        "outputId": "342fc637-fcf9-452d-9f11-39d041e7783d"
      },
      "execution_count": 15,
      "outputs": [
        {
          "output_type": "stream",
          "name": "stdout",
          "text": [
            "+------+-------+----------------+-----+-------------------+\n",
            "|userID|movieID|           title|  tag|          timestamp|\n",
            "+------+-------+----------------+-----+-------------------+\n",
            "|   567|      1|Toy Story (1995)|  fun|2018-05-02 18:33:33|\n",
            "|   474|      1|Toy Story (1995)|pixar|2006-01-14 02:47:05|\n",
            "|   336|      1|Toy Story (1995)|pixar|2006-02-04 09:36:04|\n",
            "+------+-------+----------------+-----+-------------------+\n",
            "only showing top 3 rows\n",
            "\n"
          ]
        }
      ]
    },
    {
      "cell_type": "markdown",
      "source": [
        "Now we want to include ratings as well"
      ],
      "metadata": {
        "id": "EMtgrURvLuU6"
      }
    },
    {
      "cell_type": "code",
      "source": [
        "opinions.join(ratings, [\"movieID\", \"userID\"]).show(5)"
      ],
      "metadata": {
        "colab": {
          "base_uri": "https://localhost:8080/"
        },
        "id": "wK2Y0JcdLxW-",
        "outputId": "0825e796-ddf4-4273-dd35-b3ada6acaf79"
      },
      "execution_count": 20,
      "outputs": [
        {
          "output_type": "stream",
          "name": "stdout",
          "text": [
            "+-------+------+----------------+-----+-------------------+------+-------------------+\n",
            "|movieID|userID|           title|  tag|          timestamp|rating|          timestamp|\n",
            "+-------+------+----------------+-----+-------------------+------+-------------------+\n",
            "|      1|   567|Toy Story (1995)|  fun|2018-05-02 18:33:33|   3.5|2018-05-02 18:33:21|\n",
            "|      1|   474|Toy Story (1995)|pixar|2006-01-14 02:47:05|   4.0|2001-01-04 02:36:00|\n",
            "|      1|   336|Toy Story (1995)|pixar|2006-02-04 09:36:04|   4.0|2005-07-24 17:48:49|\n",
            "|      1|   567|Toy Story (1995)|  fun|2018-05-02 18:33:33|   3.5|2018-05-02 18:33:21|\n",
            "|      1|   474|Toy Story (1995)|pixar|2006-01-14 02:47:05|   4.0|2001-01-04 02:36:00|\n",
            "+-------+------+----------------+-----+-------------------+------+-------------------+\n",
            "only showing top 5 rows\n",
            "\n"
          ]
        }
      ]
    },
    {
      "cell_type": "markdown",
      "source": [
        "Now, if we want to keep two timestamp columns, it makes sense to rename them prior to apply Join."
      ],
      "metadata": {
        "id": "zBgDGdJnMTTL"
      }
    },
    {
      "cell_type": "code",
      "source": [
        "opinions_ext = opinions.withColumnRenamed(\"timestamp\", \"tag_time\").join(\n",
        "    ratings,\n",
        "    [\"movieID\", \"userID\"]\n",
        "    ).show(5)"
      ],
      "metadata": {
        "id": "ND6SeIeBLs18"
      },
      "execution_count": null,
      "outputs": []
    },
    {
      "cell_type": "code",
      "source": [],
      "metadata": {
        "id": "RFj6IPczMkbm"
      },
      "execution_count": null,
      "outputs": []
    },
    {
      "cell_type": "markdown",
      "source": [
        "#### Different kinds of joins"
      ],
      "metadata": {
        "id": "hxOABJfWDwT9"
      }
    },
    {
      "cell_type": "code",
      "source": [
        "opinions = movie_genre.join(tags, [\"movieID\"])"
      ],
      "metadata": {
        "id": "j_iHwCMIDA_t"
      },
      "execution_count": null,
      "outputs": []
    },
    {
      "cell_type": "code",
      "source": [
        "opinions.show(3)"
      ],
      "metadata": {
        "colab": {
          "base_uri": "https://localhost:8080/"
        },
        "id": "GIv6Lp4QDEo5",
        "outputId": "3d5c2770-c1ef-452a-82a2-91d4cee660d0"
      },
      "execution_count": null,
      "outputs": [
        {
          "output_type": "stream",
          "name": "stdout",
          "text": [
            "+-------+----------------+---------+------+-----+-------------------+\n",
            "|movieID|           title|    genre|userId|  tag|          timestamp|\n",
            "+-------+----------------+---------+------+-----+-------------------+\n",
            "|      1|Toy Story (1995)|Adventure|   567|  fun|2018-05-02 18:33:33|\n",
            "|      1|Toy Story (1995)|Adventure|   474|pixar|2006-01-14 02:47:05|\n",
            "|      1|Toy Story (1995)|Adventure|   336|pixar|2006-02-04 09:36:04|\n",
            "+-------+----------------+---------+------+-----+-------------------+\n",
            "only showing top 3 rows\n",
            "\n"
          ]
        }
      ]
    },
    {
      "cell_type": "code",
      "source": [
        "opinions = movie_genre.join(tags, [\"movieID\"], \"inner\")"
      ],
      "metadata": {
        "id": "LXAnsHWiDICc"
      },
      "execution_count": null,
      "outputs": []
    },
    {
      "cell_type": "code",
      "source": [
        "opinions.show(3)"
      ],
      "metadata": {
        "colab": {
          "base_uri": "https://localhost:8080/"
        },
        "id": "IDaObejyDJ_U",
        "outputId": "199b03db-8124-4b7a-8a0f-5047eca011ae"
      },
      "execution_count": null,
      "outputs": [
        {
          "output_type": "stream",
          "name": "stdout",
          "text": [
            "+-------+----------------+---------+------+-----+-------------------+\n",
            "|movieID|           title|    genre|userId|  tag|          timestamp|\n",
            "+-------+----------------+---------+------+-----+-------------------+\n",
            "|      1|Toy Story (1995)|Adventure|   567|  fun|2018-05-02 18:33:33|\n",
            "|      1|Toy Story (1995)|Adventure|   474|pixar|2006-01-14 02:47:05|\n",
            "|      1|Toy Story (1995)|Adventure|   336|pixar|2006-02-04 09:36:04|\n",
            "+-------+----------------+---------+------+-----+-------------------+\n",
            "only showing top 3 rows\n",
            "\n"
          ]
        }
      ]
    },
    {
      "cell_type": "code",
      "source": [
        "opinions = movie_genre.join(tags, [\"movieID\"], \"outer\")"
      ],
      "metadata": {
        "id": "3yogMP-sDMZc"
      },
      "execution_count": null,
      "outputs": []
    },
    {
      "cell_type": "code",
      "source": [
        "opinions.show(3)"
      ],
      "metadata": {
        "colab": {
          "base_uri": "https://localhost:8080/"
        },
        "id": "8a1_y6aRDLIn",
        "outputId": "3802e4f7-985a-4b2a-97b4-86e5affa9a73"
      },
      "execution_count": null,
      "outputs": [
        {
          "output_type": "stream",
          "name": "stdout",
          "text": [
            "+-------+----------------+---------+------+-----+-------------------+\n",
            "|movieID|           title|    genre|userId|  tag|          timestamp|\n",
            "+-------+----------------+---------+------+-----+-------------------+\n",
            "|      1|Toy Story (1995)|Adventure|   336|pixar|2006-02-04 09:36:04|\n",
            "|      1|Toy Story (1995)|Adventure|   474|pixar|2006-01-14 02:47:05|\n",
            "|      1|Toy Story (1995)|Adventure|   567|  fun|2018-05-02 18:33:33|\n",
            "+-------+----------------+---------+------+-----+-------------------+\n",
            "only showing top 3 rows\n",
            "\n"
          ]
        }
      ]
    },
    {
      "cell_type": "code",
      "source": [
        "opinions = movie_genre.join(tags, [\"movieID\"], \"left\")"
      ],
      "metadata": {
        "id": "7qjzNBLSDbQV"
      },
      "execution_count": null,
      "outputs": []
    },
    {
      "cell_type": "code",
      "source": [
        "opinions.show(3)"
      ],
      "metadata": {
        "colab": {
          "base_uri": "https://localhost:8080/"
        },
        "id": "0M-nnH2BDLlY",
        "outputId": "4ce553f2-ceef-440a-9208-5046e28f84a3"
      },
      "execution_count": null,
      "outputs": [
        {
          "output_type": "stream",
          "name": "stdout",
          "text": [
            "+-------+----------------+---------+------+-----+-------------------+\n",
            "|movieID|           title|    genre|userId|  tag|          timestamp|\n",
            "+-------+----------------+---------+------+-----+-------------------+\n",
            "|      1|Toy Story (1995)|Adventure|   567|  fun|2018-05-02 18:33:33|\n",
            "|      1|Toy Story (1995)|Adventure|   474|pixar|2006-01-14 02:47:05|\n",
            "|      1|Toy Story (1995)|Adventure|   336|pixar|2006-02-04 09:36:04|\n",
            "+-------+----------------+---------+------+-----+-------------------+\n",
            "only showing top 3 rows\n",
            "\n"
          ]
        }
      ]
    },
    {
      "cell_type": "code",
      "source": [
        "opinions = movie_genre.join(tags, [\"movieID\"], \"right\")"
      ],
      "metadata": {
        "id": "4dQT9ItqDb67"
      },
      "execution_count": null,
      "outputs": []
    },
    {
      "cell_type": "code",
      "source": [
        "opinions.show(3)"
      ],
      "metadata": {
        "colab": {
          "base_uri": "https://localhost:8080/"
        },
        "id": "sTkoM-BJDbqa",
        "outputId": "0443694c-073d-4d1b-c4de-4b1b9a2cb201"
      },
      "execution_count": null,
      "outputs": [
        {
          "output_type": "stream",
          "name": "stdout",
          "text": [
            "+-------+--------------------+------+------+---------------+-------------------+\n",
            "|movieId|               title| genre|userId|            tag|          timestamp|\n",
            "+-------+--------------------+------+------+---------------+-------------------+\n",
            "|  60756|Step Brothers (2008)|Comedy|     2|          funny|2015-10-24 19:29:54|\n",
            "|  60756|Step Brothers (2008)|Comedy|     2|Highly quotable|2015-10-24 19:29:56|\n",
            "|  60756|Step Brothers (2008)|Comedy|     2|   will ferrell|2015-10-24 19:29:52|\n",
            "+-------+--------------------+------+------+---------------+-------------------+\n",
            "only showing top 3 rows\n",
            "\n"
          ]
        }
      ]
    }
  ]
}