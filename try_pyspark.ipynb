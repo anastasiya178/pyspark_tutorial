{
  "cells": [
    {
      "cell_type": "markdown",
      "metadata": {
        "id": "view-in-github",
        "colab_type": "text"
      },
      "source": [
        "<a href=\"https://colab.research.google.com/github/anastasiya178/pyspark_tutorial/blob/main/try_pyspark.ipynb\" target=\"_parent\"><img src=\"https://colab.research.google.com/assets/colab-badge.svg\" alt=\"Open In Colab\"/></a>"
      ]
    },
    {
      "cell_type": "markdown",
      "metadata": {
        "id": "0pF3PTrEvOZ6"
      },
      "source": [
        "### Set up environment"
      ]
    },
    {
      "cell_type": "code",
      "source": [
        "!pip install pyspark==3.4.0"
      ],
      "metadata": {
        "colab": {
          "base_uri": "https://localhost:8080/"
        },
        "id": "TMrH1wBKvS2M",
        "outputId": "e4ff0ca1-8d28-4413-99cf-c607a20eb19d"
      },
      "execution_count": null,
      "outputs": [
        {
          "output_type": "stream",
          "name": "stdout",
          "text": [
            "Collecting pyspark==3.4.0\n",
            "  Downloading pyspark-3.4.0.tar.gz (310.8 MB)\n",
            "\u001b[2K     \u001b[90m━━━━━━━━━━━━━━━━━━━━━━━━━━━━━━━━━━━━━━━━\u001b[0m \u001b[32m310.8/310.8 MB\u001b[0m \u001b[31m4.1 MB/s\u001b[0m eta \u001b[36m0:00:00\u001b[0m\n",
            "\u001b[?25h  Preparing metadata (setup.py) ... \u001b[?25l\u001b[?25hdone\n",
            "Requirement already satisfied: py4j==0.10.9.7 in /usr/local/lib/python3.10/dist-packages (from pyspark==3.4.0) (0.10.9.7)\n",
            "Building wheels for collected packages: pyspark\n",
            "  Building wheel for pyspark (setup.py) ... \u001b[?25l\u001b[?25hdone\n",
            "  Created wheel for pyspark: filename=pyspark-3.4.0-py2.py3-none-any.whl size=311317123 sha256=13a3d21c88409fd946625e0e7585d507532320706ef8c8a62fd240abb13261d2\n",
            "  Stored in directory: /root/.cache/pip/wheels/7b/1b/4b/3363a1d04368e7ff0d408e57ff57966fcdf00583774e761327\n",
            "Successfully built pyspark\n",
            "Installing collected packages: pyspark\n",
            "  Attempting uninstall: pyspark\n",
            "    Found existing installation: pyspark 3.5.3\n",
            "    Uninstalling pyspark-3.5.3:\n",
            "      Successfully uninstalled pyspark-3.5.3\n"
          ]
        }
      ]
    },
    {
      "cell_type": "code",
      "source": [
        "!pip install findspark"
      ],
      "metadata": {
        "colab": {
          "base_uri": "https://localhost:8080/"
        },
        "id": "azFyTvm3vs-g",
        "outputId": "8d0bb82d-5f42-4157-8a51-a450ba35a2b9"
      },
      "execution_count": 2,
      "outputs": [
        {
          "output_type": "stream",
          "name": "stdout",
          "text": [
            "Collecting findspark\n",
            "  Downloading findspark-2.0.1-py2.py3-none-any.whl.metadata (352 bytes)\n",
            "Downloading findspark-2.0.1-py2.py3-none-any.whl (4.4 kB)\n",
            "Installing collected packages: findspark\n",
            "Successfully installed findspark-2.0.1\n"
          ]
        }
      ]
    },
    {
      "cell_type": "code",
      "execution_count": 3,
      "metadata": {
        "id": "80Sos2zgvOZ7"
      },
      "outputs": [],
      "source": [
        "import findspark\n",
        "findspark.init()\n"
      ]
    },
    {
      "cell_type": "code",
      "execution_count": 4,
      "metadata": {
        "colab": {
          "base_uri": "https://localhost:8080/",
          "height": 197
        },
        "id": "S5cJ1UiAvOZ8",
        "outputId": "74fbab3a-76c1-4185-ed7d-339088dc45c2"
      },
      "outputs": [
        {
          "output_type": "execute_result",
          "data": {
            "text/plain": [
              "<SparkContext master=local[*] appName=pyspark-shell>"
            ],
            "text/html": [
              "\n",
              "        <div>\n",
              "            <p><b>SparkContext</b></p>\n",
              "\n",
              "            <p><a href=\"http://17f16d631b8b:4040\">Spark UI</a></p>\n",
              "\n",
              "            <dl>\n",
              "              <dt>Version</dt>\n",
              "                <dd><code>v3.4.0</code></dd>\n",
              "              <dt>Master</dt>\n",
              "                <dd><code>local[*]</code></dd>\n",
              "              <dt>AppName</dt>\n",
              "                <dd><code>pyspark-shell</code></dd>\n",
              "            </dl>\n",
              "        </div>\n",
              "        "
            ]
          },
          "metadata": {},
          "execution_count": 4
        }
      ],
      "source": [
        "from pyspark import SparkContext\n",
        "\n",
        "sc = SparkContext.getOrCreate()\n",
        "sc"
      ]
    },
    {
      "cell_type": "code",
      "execution_count": 5,
      "metadata": {
        "colab": {
          "base_uri": "https://localhost:8080/",
          "height": 221
        },
        "id": "uFzmRVvkvOZ8",
        "outputId": "84823a04-1376-4083-d359-3d9b2bf07abd"
      },
      "outputs": [
        {
          "output_type": "execute_result",
          "data": {
            "text/plain": [
              "<pyspark.sql.session.SparkSession at 0x7dd7892d2560>"
            ],
            "text/html": [
              "\n",
              "            <div>\n",
              "                <p><b>SparkSession - in-memory</b></p>\n",
              "                \n",
              "        <div>\n",
              "            <p><b>SparkContext</b></p>\n",
              "\n",
              "            <p><a href=\"http://17f16d631b8b:4040\">Spark UI</a></p>\n",
              "\n",
              "            <dl>\n",
              "              <dt>Version</dt>\n",
              "                <dd><code>v3.4.0</code></dd>\n",
              "              <dt>Master</dt>\n",
              "                <dd><code>local[*]</code></dd>\n",
              "              <dt>AppName</dt>\n",
              "                <dd><code>pyspark-shell</code></dd>\n",
              "            </dl>\n",
              "        </div>\n",
              "        \n",
              "            </div>\n",
              "        "
            ]
          },
          "metadata": {},
          "execution_count": 5
        }
      ],
      "source": [
        "import pyspark\n",
        "from pyspark.sql import SparkSession\n",
        "spark = SparkSession.builder.getOrCreate()\n",
        "spark"
      ]
    },
    {
      "cell_type": "markdown",
      "metadata": {
        "id": "s-Moevr6vOZ9"
      },
      "source": [
        "#### Install wget for downloading data"
      ]
    },
    {
      "cell_type": "code",
      "execution_count": null,
      "metadata": {
        "scrolled": true,
        "id": "cMUs5xfVvOZ9"
      },
      "outputs": [],
      "source": [
        "#!pip install wget"
      ]
    },
    {
      "cell_type": "code",
      "execution_count": null,
      "metadata": {
        "id": "4BucG9j0vOZ9"
      },
      "outputs": [],
      "source": [
        "#!wget https://data.cityofchicago.org/api/views/ijzp-q8t2/rows.csv?accessType=DOWNLOAD\n"
      ]
    },
    {
      "cell_type": "code",
      "execution_count": null,
      "metadata": {
        "id": "mYG1Pe23vOZ9",
        "outputId": "1f285961-ff08-42f6-a82a-9df62954e566"
      },
      "outputs": [
        {
          "name": "stdout",
          "output_type": "stream",
          "text": [
            "total 24\n",
            "-rw-r--r--  1 anastasiakr  staff   519 Oct 25 12:46 main.py\n",
            "-rw-r--r--  1 anastasiakr  staff    25 Oct 25 12:59 requirements.txt\n",
            "-rw-r--r--  1 anastasiakr  staff  1802 Oct 25 13:04 try_pyspark.ipynb\n",
            "drwxr-xr-x  8 anastasiakr  staff   256 Oct 25 12:48 \u001b[34mvenv\u001b[m\u001b[m\n"
          ]
        }
      ],
      "source": [
        "!ls -l"
      ]
    },
    {
      "cell_type": "markdown",
      "metadata": {
        "id": "MWqi3Ja-vOZ9"
      },
      "source": [
        "Remove the file"
      ]
    },
    {
      "cell_type": "code",
      "execution_count": null,
      "metadata": {
        "id": "wnk9X1r7vOZ-",
        "outputId": "48247eff-77f3-42c9-e1aa-f807f2c0d674"
      },
      "outputs": [
        {
          "name": "stdout",
          "output_type": "stream",
          "text": [
            "total 3776112\n",
            "-rw-r--r--  1 anastasiakr  staff         519 Oct 25 12:46 main.py\n",
            "-rw-r--r--@ 1 anastasiakr  staff  1933356263 Oct 25 13:22 reported-crimes.csv\n",
            "-rw-r--r--  1 anastasiakr  staff          25 Oct 25 12:59 requirements.txt\n",
            "-rw-r--r--  1 anastasiakr  staff        1802 Oct 25 13:04 try_pyspark.ipynb\n",
            "drwxr-xr-x  8 anastasiakr  staff         256 Oct 25 12:48 \u001b[34mvenv\u001b[m\u001b[m\n"
          ]
        }
      ],
      "source": [
        "!mv Crimes_-_2001_to_Present.csv reported-crimes.csv\n",
        "!ls -l"
      ]
    },
    {
      "cell_type": "code",
      "execution_count": 7,
      "metadata": {
        "colab": {
          "base_uri": "https://localhost:8080/"
        },
        "id": "rtt3MejdvOZ-",
        "outputId": "cc721554-fd7c-404e-f7f5-0949f4546b20"
      },
      "outputs": [
        {
          "output_type": "stream",
          "name": "stdout",
          "text": [
            "+--------+-----------+-------------------+------------------+----+--------------------+--------------------+--------------------+------+--------+----+--------+----+--------------+--------+------------+------------+----+--------------------+--------+---------+--------+\n",
            "|      ID|Case Number|               Date|             Block|IUCR|        Primary Type|         Description|Location Description|Arrest|Domestic|Beat|District|Ward|Community Area|FBI Code|X Coordinate|Y Coordinate|Year|          Updated On|Latitude|Longitude|Location|\n",
            "+--------+-----------+-------------------+------------------+----+--------------------+--------------------+--------------------+------+--------+----+--------+----+--------------+--------+------------+------------+----+--------------------+--------+---------+--------+\n",
            "| 5741943|   HN549294|2007-08-25 09:22:18|074XX N ROGERS AVE|0560|             ASSAULT|              SIMPLE|               OTHER| false|   false|2422|     024|  49|             1|     08A|        null|        null|2007|08/17/2015 03:03:...|    null|     null|    null|\n",
            "| 1930689|   HH109118|2002-01-05 21:24:00|    007XX E 103 ST|0820|               THEFT|      $500 AND UNDER|         GAS STATION|  true|   false|0512|     005|null|          null|      06|        null|        null|2002|02/04/2016 06:33:...|    null|     null|    null|\n",
            "|12416974|   JE293464|2011-08-10 00:01:00|   031XX W 53RD PL|1753|OFFENSE INVOLVING...|SEXUAL ASSAULT OF...|           RESIDENCE| false|    true|0923|     009|  14|            63|      02|        null|        null|2011|09/14/2023 03:41:...|    null|     null|    null|\n",
            "|12536164|   JE439378|2015-09-24 00:00:00|   031XX W 53RD PL|1753|OFFENSE INVOLVING...|SEXUAL ASSAULT OF...|           APARTMENT| false|    true|0923|     009|  14|            63|      02|        null|        null|2015|09/14/2023 03:41:...|    null|     null|    null|\n",
            "|12536166|   JE439332|2014-09-07 00:00:00|   031XX W 53RD PL|1753|OFFENSE INVOLVING...|SEXUAL ASSAULT OF...|           APARTMENT| false|    true|0923|     009|  14|            63|      02|        null|        null|2014|09/14/2023 03:41:...|    null|     null|    null|\n",
            "+--------+-----------+-------------------+------------------+----+--------------------+--------------------+--------------------+------+--------+----+--------+----+--------------+--------+------------+------------+----+--------------------+--------+---------+--------+\n",
            "only showing top 5 rows\n",
            "\n"
          ]
        }
      ],
      "source": [
        "from pyspark.sql.functions import to_timestamp,col,lit\n",
        "rc = spark.read.csv('reported-crimes.csv',header=True).withColumn('Date',to_timestamp(col('Date'),'MM/dd/yyyy hh:mm:ss a')).filter(col('Date') <= lit('2018-11-11'))\n",
        "rc.show(5)"
      ]
    },
    {
      "cell_type": "code",
      "execution_count": null,
      "metadata": {
        "colab": {
          "base_uri": "https://localhost:8080/"
        },
        "id": "PKcncMvVvOZ-",
        "outputId": "4fae846f-d3b2-4520-b09e-ebad7052ad9f"
      },
      "outputs": [
        {
          "output_type": "stream",
          "name": "stdout",
          "text": [
            "total 61444\n",
            "-rw-r--r-- 1 root root 62914560 Oct 25 17:36 reported-crimes.csv\n",
            "drwxr-xr-x 1 root root     4096 Oct 24 13:20 sample_data\n"
          ]
        }
      ],
      "source": [
        "!ls -l"
      ]
    },
    {
      "cell_type": "markdown",
      "source": [
        "Schemas\n"
      ],
      "metadata": {
        "id": "93CcGV0xXz3O"
      }
    },
    {
      "cell_type": "markdown",
      "source": [
        "Explicitly defining schemas is recommended"
      ],
      "metadata": {
        "id": "Vn7QABJSYU_4"
      }
    },
    {
      "cell_type": "code",
      "source": [
        "rc.printSchema()"
      ],
      "metadata": {
        "id": "XK63hn_kXzVZ",
        "colab": {
          "base_uri": "https://localhost:8080/"
        },
        "outputId": "ebcc62c6-b51d-4d04-ed4b-e3f37dd294d8"
      },
      "execution_count": 9,
      "outputs": [
        {
          "output_type": "stream",
          "name": "stdout",
          "text": [
            "root\n",
            " |-- ID: string (nullable = true)\n",
            " |-- Case Number: string (nullable = true)\n",
            " |-- Date: timestamp (nullable = true)\n",
            " |-- Block: string (nullable = true)\n",
            " |-- IUCR: string (nullable = true)\n",
            " |-- Primary Type: string (nullable = true)\n",
            " |-- Description: string (nullable = true)\n",
            " |-- Location Description: string (nullable = true)\n",
            " |-- Arrest: string (nullable = true)\n",
            " |-- Domestic: string (nullable = true)\n",
            " |-- Beat: string (nullable = true)\n",
            " |-- District: string (nullable = true)\n",
            " |-- Ward: string (nullable = true)\n",
            " |-- Community Area: string (nullable = true)\n",
            " |-- FBI Code: string (nullable = true)\n",
            " |-- X Coordinate: string (nullable = true)\n",
            " |-- Y Coordinate: string (nullable = true)\n",
            " |-- Year: string (nullable = true)\n",
            " |-- Updated On: string (nullable = true)\n",
            " |-- Latitude: string (nullable = true)\n",
            " |-- Longitude: string (nullable = true)\n",
            " |-- Location: string (nullable = true)\n",
            "\n"
          ]
        }
      ]
    },
    {
      "cell_type": "code",
      "source": [
        "rc.columns"
      ],
      "metadata": {
        "colab": {
          "base_uri": "https://localhost:8080/"
        },
        "id": "yw5Yi_6fZ4IO",
        "outputId": "18abd990-10ac-48b0-a00c-20cbffb1b5d6"
      },
      "execution_count": 14,
      "outputs": [
        {
          "output_type": "execute_result",
          "data": {
            "text/plain": [
              "['ID',\n",
              " 'Case Number',\n",
              " 'Date',\n",
              " 'Block',\n",
              " 'IUCR',\n",
              " 'Primary Type',\n",
              " 'Description',\n",
              " 'Location Description',\n",
              " 'Arrest',\n",
              " 'Domestic',\n",
              " 'Beat',\n",
              " 'District',\n",
              " 'Ward',\n",
              " 'Community Area',\n",
              " 'FBI Code',\n",
              " 'X Coordinate',\n",
              " 'Y Coordinate',\n",
              " 'Year',\n",
              " 'Updated On',\n",
              " 'Latitude',\n",
              " 'Longitude',\n",
              " 'Location']"
            ]
          },
          "metadata": {},
          "execution_count": 14
        }
      ]
    },
    {
      "cell_type": "code",
      "source": [
        "from pyspark.sql.types import StructType, StructField, StringType, TimestampType, BooleanType, DoubleType, IntegerType"
      ],
      "metadata": {
        "id": "ioPBx4cAYbmW"
      },
      "execution_count": 15,
      "outputs": []
    },
    {
      "cell_type": "markdown",
      "source": [
        "Get schema, copy it\n",
        "\n"
      ],
      "metadata": {
        "id": "goUTulMpe7QX"
      }
    },
    {
      "cell_type": "code",
      "source": [
        "rc.schema"
      ],
      "metadata": {
        "colab": {
          "base_uri": "https://localhost:8080/"
        },
        "id": "F5psd07SbwTo",
        "outputId": "f1b40f8c-77a0-4775-a704-507b6f083cb7"
      },
      "execution_count": 39,
      "outputs": [
        {
          "output_type": "execute_result",
          "data": {
            "text/plain": [
              "StructType([StructField('ID', StringType(), True), StructField('Case Number', StringType(), True), StructField('Date', TimestampType(), True), StructField('Block', StringType(), True), StructField('IUCR', StringType(), True), StructField('Primary Type', StringType(), True), StructField('Description', StringType(), True), StructField('Location Description', StringType(), True), StructField('Arrest', StringType(), True), StructField('Domestic', StringType(), True), StructField('Beat', StringType(), True), StructField('District', StringType(), True), StructField('Ward', StringType(), True), StructField('Community Area', StringType(), True), StructField('FBI Code', StringType(), True), StructField('X Coordinate', StringType(), True), StructField('Y Coordinate', StringType(), True), StructField('Year', StringType(), True), StructField('Updated On', StringType(), True), StructField('Latitude', StringType(), True), StructField('Longitude', StringType(), True), StructField('Location', StringType(), True)])"
            ]
          },
          "metadata": {},
          "execution_count": 39
        }
      ]
    },
    {
      "cell_type": "markdown",
      "source": [
        "Change types based on your needs. In this case changes occured to the types of Date, Domestic, Year, Latitude, Longitude fields."
      ],
      "metadata": {
        "id": "5aNhyitmfD9W"
      }
    },
    {
      "cell_type": "code",
      "source": [
        "schema = StructType(\n",
        "    [\n",
        "        StructField('ID', StringType(), True),\n",
        "        StructField('Case Number', StringType(), True),\n",
        "        StructField('Date', TimestampType(), True),\n",
        "        StructField('Block', StringType(), True),\n",
        "        StructField('IUCR', StringType(), True),\n",
        "        StructField('Primary Type', StringType(), True),\n",
        "        StructField('Description', StringType(), True),\n",
        "        StructField('Location Description', StringType(), True),\n",
        "        StructField('Arrest', StringType(), True),\n",
        "        StructField('Domestic', BooleanType(), True),\n",
        "        StructField('Beat', StringType(), True),\n",
        "        StructField('District', StringType(), True),\n",
        "        StructField('Ward', StringType(), True),\n",
        "        StructField('Community Area', StringType(), True),\n",
        "        StructField('FBI Code', StringType(), True),\n",
        "        StructField('X Coordinate', StringType(), True),\n",
        "        StructField('Y Coordinate', StringType(), True),\n",
        "        StructField('Year', IntegerType(), True),\n",
        "        StructField('Updated On', StringType(), True),\n",
        "        StructField('Latitude', DoubleType(), True),\n",
        "        StructField('Longitude', DoubleType(), True),\n",
        "        StructField('Location', StringType(), True)\n",
        "    ]\n",
        ")"
      ],
      "metadata": {
        "id": "5Glw5bZmcn8y"
      },
      "execution_count": 40,
      "outputs": []
    },
    {
      "cell_type": "code",
      "source": [
        "rc = spark.read.csv('reported-crimes.csv', schema=schema)"
      ],
      "metadata": {
        "id": "LXIhubWnc9z6"
      },
      "execution_count": 42,
      "outputs": []
    },
    {
      "cell_type": "code",
      "source": [
        "rc.schema"
      ],
      "metadata": {
        "colab": {
          "base_uri": "https://localhost:8080/"
        },
        "id": "1gxaJexJewpb",
        "outputId": "58fb63ee-c8d8-45fd-dc4d-a2104700275f"
      },
      "execution_count": 43,
      "outputs": [
        {
          "output_type": "execute_result",
          "data": {
            "text/plain": [
              "StructType([StructField('ID', StringType(), True), StructField('Case Number', StringType(), True), StructField('Date', TimestampType(), True), StructField('Block', StringType(), True), StructField('IUCR', StringType(), True), StructField('Primary Type', StringType(), True), StructField('Description', StringType(), True), StructField('Location Description', StringType(), True), StructField('Arrest', StringType(), True), StructField('Domestic', BooleanType(), True), StructField('Beat', StringType(), True), StructField('District', StringType(), True), StructField('Ward', StringType(), True), StructField('Community Area', StringType(), True), StructField('FBI Code', StringType(), True), StructField('X Coordinate', StringType(), True), StructField('Y Coordinate', StringType(), True), StructField('Year', IntegerType(), True), StructField('Updated On', StringType(), True), StructField('Latitude', DoubleType(), True), StructField('Longitude', DoubleType(), True), StructField('Location', StringType(), True)])"
            ]
          },
          "metadata": {},
          "execution_count": 43
        }
      ]
    },
    {
      "cell_type": "code",
      "source": [
        "rc.printSchema()"
      ],
      "metadata": {
        "colab": {
          "base_uri": "https://localhost:8080/"
        },
        "id": "8ILw-Jy9fYSN",
        "outputId": "a3b74cb5-0696-448a-d123-67e182e5828c"
      },
      "execution_count": 45,
      "outputs": [
        {
          "output_type": "stream",
          "name": "stdout",
          "text": [
            "root\n",
            " |-- ID: string (nullable = true)\n",
            " |-- Case Number: string (nullable = true)\n",
            " |-- Date: timestamp (nullable = true)\n",
            " |-- Block: string (nullable = true)\n",
            " |-- IUCR: string (nullable = true)\n",
            " |-- Primary Type: string (nullable = true)\n",
            " |-- Description: string (nullable = true)\n",
            " |-- Location Description: string (nullable = true)\n",
            " |-- Arrest: string (nullable = true)\n",
            " |-- Domestic: boolean (nullable = true)\n",
            " |-- Beat: string (nullable = true)\n",
            " |-- District: string (nullable = true)\n",
            " |-- Ward: string (nullable = true)\n",
            " |-- Community Area: string (nullable = true)\n",
            " |-- FBI Code: string (nullable = true)\n",
            " |-- X Coordinate: string (nullable = true)\n",
            " |-- Y Coordinate: string (nullable = true)\n",
            " |-- Year: integer (nullable = true)\n",
            " |-- Updated On: string (nullable = true)\n",
            " |-- Latitude: double (nullable = true)\n",
            " |-- Longitude: double (nullable = true)\n",
            " |-- Location: string (nullable = true)\n",
            "\n"
          ]
        }
      ]
    },
    {
      "cell_type": "markdown",
      "source": [
        "Check dataframe again. You will see that some values changed to null. This is because PySpark couldn't easily transform those values to a new data type.\n"
      ],
      "metadata": {
        "id": "0egVUNOWfgM9"
      }
    },
    {
      "cell_type": "code",
      "source": [
        "rc.show(5)"
      ],
      "metadata": {
        "colab": {
          "base_uri": "https://localhost:8080/"
        },
        "id": "zVuN6LWNfaVQ",
        "outputId": "881a8a54-841b-4fc4-e42f-89b86d34fa05"
      },
      "execution_count": 44,
      "outputs": [
        {
          "output_type": "stream",
          "name": "stdout",
          "text": [
            "+--------+-----------+----+--------------------+----+------------+-------------------+--------------------+------+--------+----+--------+----+--------------+--------+------------+------------+----+--------------------+------------+-------------+--------------------+\n",
            "|      ID|Case Number|Date|               Block|IUCR|Primary Type|        Description|Location Description|Arrest|Domestic|Beat|District|Ward|Community Area|FBI Code|X Coordinate|Y Coordinate|Year|          Updated On|    Latitude|    Longitude|            Location|\n",
            "+--------+-----------+----+--------------------+----+------------+-------------------+--------------------+------+--------+----+--------+----+--------------+--------+------------+------------+----+--------------------+------------+-------------+--------------------+\n",
            "|      ID|Case Number|null|               Block|IUCR|Primary Type|        Description|Location Description|Arrest|    null|Beat|District|Ward|Community Area|FBI Code|X Coordinate|Y Coordinate|null|          Updated On|        null|         null|            Location|\n",
            "| 5741943|   HN549294|null|  074XX N ROGERS AVE|0560|     ASSAULT|             SIMPLE|               OTHER| false|   false|2422|     024|  49|             1|     08A|        null|        null|2007|08/17/2015 03:03:...|        null|         null|                null|\n",
            "|   25953|   JE240540|null| 020XX N LARAMIE AVE|0110|    HOMICIDE|FIRST DEGREE MURDER|              STREET|  true|   false|2515|     025|  36|            19|     01A|     1141387|     1913179|2021|11/18/2023 03:39:...|41.917838056|-87.755968972|(41.917838056, -8...|\n",
            "|   26038|   JE279849|null|062XX N MC CORMIC...|0110|    HOMICIDE|FIRST DEGREE MURDER|         PARKING LOT|  true|   false|1711|     017|  50|            13|     01A|     1152781|     1941458|2021|11/18/2023 03:39:...|41.995219444|-87.713354912|(41.995219444, -8...|\n",
            "|13279676|   JG507211|null|    019XX W BYRON ST|0620|    BURGLARY|     UNLAWFUL ENTRY|           APARTMENT| false|   false|1922|     019|  47|             5|      05|     1162518|     1925906|2023|11/18/2023 03:39:...|41.952345086|-87.677975059|(41.952345086, -8...|\n",
            "+--------+-----------+----+--------------------+----+------------+-------------------+--------------------+------+--------+----+--------+----+--------------+--------+------------+------------+----+--------------------+------------+-------------+--------------------+\n",
            "only showing top 5 rows\n",
            "\n"
          ]
        }
      ]
    },
    {
      "cell_type": "markdown",
      "source": [
        "### Working with columns"
      ],
      "metadata": {
        "id": "9oWIPyp-gq1K"
      }
    },
    {
      "cell_type": "markdown",
      "source": [
        "Access a column in pandas"
      ],
      "metadata": {
        "id": "Rgs4UqGdloHb"
      }
    },
    {
      "cell_type": "code",
      "source": [],
      "metadata": {
        "id": "5htCZkQGloUj"
      },
      "execution_count": null,
      "outputs": []
    },
    {
      "cell_type": "markdown",
      "source": [
        "Access a column in PySpark"
      ],
      "metadata": {
        "id": "pLm5ZmBOlshf"
      }
    },
    {
      "cell_type": "code",
      "source": [],
      "metadata": {
        "id": "rT-gjajDltQv"
      },
      "execution_count": null,
      "outputs": []
    },
    {
      "cell_type": "markdown",
      "source": [
        "Selecting multiple columns in pandas"
      ],
      "metadata": {
        "id": "34EI-dzhhFnI"
      }
    },
    {
      "cell_type": "code",
      "source": [
        "# df[[\"column1\", \"column2\"]]"
      ],
      "metadata": {
        "id": "dYbdeR20gqUZ"
      },
      "execution_count": 46,
      "outputs": []
    },
    {
      "cell_type": "markdown",
      "source": [
        "Selecting multiple columns in PySpark"
      ],
      "metadata": {
        "id": "uEcguzRIhPea"
      }
    },
    {
      "cell_type": "code",
      "source": [
        "# df.select(\"column1\", \"column2\").show(3)"
      ],
      "metadata": {
        "id": "HqXnzolAhOFW"
      },
      "execution_count": 47,
      "outputs": []
    },
    {
      "cell_type": "code",
      "source": [
        "rc.select(\"ID\", \"Description\").show(10)"
      ],
      "metadata": {
        "colab": {
          "base_uri": "https://localhost:8080/"
        },
        "id": "68_C6MT9hOLd",
        "outputId": "1410c3f8-1cd1-4c0e-eff3-32d727ba9468"
      },
      "execution_count": 49,
      "outputs": [
        {
          "output_type": "stream",
          "name": "stdout",
          "text": [
            "+--------+--------------------+\n",
            "|      ID|         Description|\n",
            "+--------+--------------------+\n",
            "|      ID|         Description|\n",
            "| 5741943|              SIMPLE|\n",
            "|   25953| FIRST DEGREE MURDER|\n",
            "|   26038| FIRST DEGREE MURDER|\n",
            "|13279676|      UNLAWFUL ENTRY|\n",
            "|13274752|AGGRAVATED P.O. -...|\n",
            "| 1930689|      $500 AND UNDER|\n",
            "|13203321|          TO VEHICLE|\n",
            "|13582916|THEFT BY LESSEE, ...|\n",
            "|   28339| FIRST DEGREE MURDER|\n",
            "+--------+--------------------+\n",
            "only showing top 10 rows\n",
            "\n"
          ]
        }
      ]
    },
    {
      "cell_type": "markdown",
      "source": [
        "Add a column in pandas"
      ],
      "metadata": {
        "id": "RO0j99RphxqP"
      }
    },
    {
      "cell_type": "code",
      "source": [],
      "metadata": {
        "id": "o49XuBWihOOS"
      },
      "execution_count": null,
      "outputs": []
    },
    {
      "cell_type": "markdown",
      "source": [
        "Add a column in PySpark"
      ],
      "metadata": {
        "id": "EWoSZSNkhz7O"
      }
    },
    {
      "cell_type": "markdown",
      "source": [
        "Rename a column in pandas"
      ],
      "metadata": {
        "id": "rHi44uhdiIjp"
      }
    },
    {
      "cell_type": "code",
      "source": [],
      "metadata": {
        "id": "bQ8gT2XViQtu"
      },
      "execution_count": null,
      "outputs": []
    },
    {
      "cell_type": "markdown",
      "source": [
        "Rename a column in PySpark"
      ],
      "metadata": {
        "id": "7qRcDR2biIr-"
      }
    },
    {
      "cell_type": "code",
      "source": [],
      "metadata": {
        "id": "A15gojfsiR0M"
      },
      "execution_count": null,
      "outputs": []
    },
    {
      "cell_type": "markdown",
      "source": [
        "Remove a column in pandas"
      ],
      "metadata": {
        "id": "2mSNCWJFiTT8"
      }
    },
    {
      "cell_type": "code",
      "source": [],
      "metadata": {
        "id": "1FBFDNtThOQ4"
      },
      "execution_count": null,
      "outputs": []
    },
    {
      "cell_type": "markdown",
      "source": [
        "Remove a column in PySpark"
      ],
      "metadata": {
        "id": "N-D5fNVdiT8y"
      }
    },
    {
      "cell_type": "code",
      "source": [],
      "metadata": {
        "id": "kdGchuM9hOTz"
      },
      "execution_count": null,
      "outputs": []
    },
    {
      "cell_type": "markdown",
      "source": [
        "Group by in pandas"
      ],
      "metadata": {
        "id": "jE0E1HfmigvL"
      }
    },
    {
      "cell_type": "code",
      "source": [],
      "metadata": {
        "id": "E01sPw0AihMR"
      },
      "execution_count": null,
      "outputs": []
    },
    {
      "cell_type": "markdown",
      "source": [
        "Group by in PySpark"
      ],
      "metadata": {
        "id": "XBPBqIBLihpn"
      }
    },
    {
      "cell_type": "code",
      "source": [],
      "metadata": {
        "id": "p4KgsrNdiibg"
      },
      "execution_count": null,
      "outputs": []
    }
  ],
  "metadata": {
    "kernelspec": {
      "display_name": "Python 3 (ipykernel)",
      "language": "python",
      "name": "python3"
    },
    "language_info": {
      "codemirror_mode": {
        "name": "ipython",
        "version": 3
      },
      "file_extension": ".py",
      "mimetype": "text/x-python",
      "name": "python",
      "nbconvert_exporter": "python",
      "pygments_lexer": "ipython3",
      "version": "3.8.9"
    },
    "colab": {
      "provenance": [],
      "include_colab_link": true
    }
  },
  "nbformat": 4,
  "nbformat_minor": 0
}